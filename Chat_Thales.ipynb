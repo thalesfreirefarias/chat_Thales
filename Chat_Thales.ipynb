{
  "nbformat": 4,
  "nbformat_minor": 0,
  "metadata": {
    "colab": {
      "provenance": [],
      "toc_visible": true,
      "authorship_tag": "ABX9TyOMxFcE26f6JqWURBLsrooP",
      "include_colab_link": true
    },
    "kernelspec": {
      "name": "python3",
      "display_name": "Python 3"
    },
    "language_info": {
      "name": "python"
    }
  },
  "cells": [
    {
      "cell_type": "markdown",
      "metadata": {
        "id": "view-in-github",
        "colab_type": "text"
      },
      "source": [
        "<a href=\"https://colab.research.google.com/github/thalesfreirefarias/chat_Thales/blob/main/Chat_Thales.ipynb\" target=\"_parent\"><img src=\"https://colab.research.google.com/assets/colab-badge.svg\" alt=\"Open In Colab\"/></a>"
      ]
    },
    {
      "cell_type": "code",
      "execution_count": null,
      "metadata": {
        "id": "IWc7g1pGxdbJ"
      },
      "outputs": [],
      "source": [
        "# Instala a biblioteca Google-generativeai\n",
        "!pip install -q -U google-generativeai"
      ]
    },
    {
      "cell_type": "code",
      "source": [
        "# Importa a biblioteca e configura a chave API\n",
        "#Não se esqueça de colocar na chave aqui do lado o SECRET KEY e coloca seu API dentro\n",
        "import google.generativeai as genai\n",
        "from google.colab import userdata\n",
        "api_key = userdata.get('SECRET_KEY')\n",
        "genai.configure(api_key=api_key)\n"
      ],
      "metadata": {
        "id": "DekZGhWGyUuG"
      },
      "execution_count": null,
      "outputs": []
    },
    {
      "cell_type": "code",
      "source": [
        "# List available models\n",
        "for m in genai.list_models():\n",
        "    if 'generateContent' in m.supported_generation_methods:\n",
        "        print(m.name)"
      ],
      "metadata": {
        "colab": {
          "base_uri": "https://localhost:8080/",
          "height": 142
        },
        "id": "dBEHa9xY3fG8",
        "outputId": "277743d9-2aa4-4203-93ab-c2e661aaa8b6"
      },
      "execution_count": null,
      "outputs": [
        {
          "output_type": "stream",
          "name": "stdout",
          "text": [
            "models/gemini-1.0-pro\n",
            "models/gemini-1.0-pro-001\n",
            "models/gemini-1.0-pro-latest\n",
            "models/gemini-1.0-pro-vision-latest\n",
            "models/gemini-1.5-pro-latest\n",
            "models/gemini-pro\n",
            "models/gemini-pro-vision\n"
          ]
        }
      ]
    },
    {
      "cell_type": "code",
      "source": [
        "# Define o modelo de linguagem\n",
        "model = genai.GenerativeModel('gemini-pro')"
      ],
      "metadata": {
        "id": "6kEmwdse2WK5"
      },
      "execution_count": null,
      "outputs": []
    },
    {
      "cell_type": "code",
      "source": [
        "# Configurações do modelo Gemini\n",
        "generation_config = {\n",
        "    \"candidate_count\": 1,\n",
        "    \"temperature\": 0.7,\n",
        "}\n",
        "safety_settings = {\n",
        "    'HATE': 'BLOCK_NONE',\n",
        "    'HARASSMENT': 'BLOCK_NONE',\n",
        "    'SEXUAL': 'BLOCK_NONE',\n",
        "    'DANGEROUS': 'BLOCK_NONE'\n",
        "}\n",
        "\n",
        "# Criando o modelo Gemini\n",
        "model = genai.GenerativeModel(\n",
        "    model_name='gemini-1.0-pro',\n",
        "    generation_config=generation_config,\n",
        "    safety_settings=safety_settings,\n",
        ")"
      ],
      "metadata": {
        "id": "Yic5dEYW290V"
      },
      "execution_count": null,
      "outputs": []
    },
    {
      "cell_type": "code",
      "source": [
        "def chatbot():\n",
        "    print(\"Olá! Sou seu assistente de segurança digital. O que você gostaria de saber?\")\n",
        "    chat = model.start_chat(history=[])"
      ],
      "metadata": {
        "id": "xy-NwYP434z2"
      },
      "execution_count": null,
      "outputs": []
    },
    {
      "cell_type": "code",
      "source": [
        "#Chat\n",
        "user_name = input(\"Por favor, digite seu nome: \") # Solicitar o nome do usuário\n",
        "prompt = input(\"Qual a sua dúvida? \")\n",
        "\n",
        "while prompt != \"fim\":\n",
        "  response = chat.send_message(prompt)\n",
        "  print(user_name, \"a resposta é \" , response.text , \"\\n\")\n",
        "  prompt = input(\"Tem mais alguma dúvida? Se tiver digite a sua dúvida, senão digite fim para encerrar\")"
      ],
      "metadata": {
        "colab": {
          "base_uri": "https://localhost:8080/",
          "height": 160
        },
        "id": "aO7pP5HM6KhO",
        "outputId": "6d357748-42a5-42ba-ba0d-3e1bb3edfb8c"
      },
      "execution_count": null,
      "outputs": [
        {
          "name": "stdout",
          "output_type": "stream",
          "text": [
            "Por favor, digite seu nome: Thales\n",
            "Qual a sua dúvida? Qual a altura do Yuri Alberto?\n",
            "Thales a resposta é  1,85 m \n",
            "\n",
            "Tem mais alguma dúvida? Se tiver digite a sua dúvida, senão digite fim para encerrarQuantos anos ele tem?\n",
            "Thales a resposta é  21 anos (em 18 de março de 2023) \n",
            "\n",
            "Tem mais alguma dúvida? Se tiver digite a sua dúvida, senão digite fim para encerrarfim\n"
          ]
        }
      ]
    },
    {
      "cell_type": "code",
      "source": [
        "#mostra o historico\n",
        "chat.history\n",
        "\n",
        "import textwrap\n",
        "from IPython.display import display\n",
        "from IPython.display import Markdown\n",
        "\n",
        "def to_markdown(text):\n",
        "  text = text.replace('.', ' . ')\n",
        "  return Markdown(textwrap.indent(text, '> ', predicate=lambda _: True))\n",
        "\n",
        "# Imprimindo o histórico\n",
        "for message in chat.history:\n",
        "  display(to_markdown(f'***{message.role}***: {message.parts[0].text}'))\n",
        "print('')"
      ],
      "metadata": {
        "colab": {
          "base_uri": "https://localhost:8080/",
          "height": 174
        },
        "id": "xcMZ_VbZ8XDg",
        "outputId": "6582de5f-669e-4a9c-d083-b109444fd562"
      },
      "execution_count": null,
      "outputs": [
        {
          "output_type": "display_data",
          "data": {
            "text/plain": [
              "<IPython.core.display.Markdown object>"
            ],
            "text/markdown": "> ***user***: Qual a altura do Yuri Alberto?"
          },
          "metadata": {}
        },
        {
          "output_type": "display_data",
          "data": {
            "text/plain": [
              "<IPython.core.display.Markdown object>"
            ],
            "text/markdown": "> ***model***: 1,85 m"
          },
          "metadata": {}
        },
        {
          "output_type": "display_data",
          "data": {
            "text/plain": [
              "<IPython.core.display.Markdown object>"
            ],
            "text/markdown": "> ***user***: Quantos anos ele tem?"
          },
          "metadata": {}
        },
        {
          "output_type": "display_data",
          "data": {
            "text/plain": [
              "<IPython.core.display.Markdown object>"
            ],
            "text/markdown": "> ***model***: 21 anos (em 18 de março de 2023)"
          },
          "metadata": {}
        },
        {
          "output_type": "stream",
          "name": "stdout",
          "text": [
            "\n"
          ]
        }
      ]
    }
  ]
}